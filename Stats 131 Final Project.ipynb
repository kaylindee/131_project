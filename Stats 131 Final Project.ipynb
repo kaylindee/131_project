{
 "cells": [
  {
   "cell_type": "markdown",
   "metadata": {},
   "source": [
    "## Stats 131: Final Project\n",
    "### Kaylin Dee\n",
    "\n",
    "Basic Exploratory Analysis of League of Legends' Kaggle Data.\n",
    "\n",
    "The data from Kaggle consists of 7 separate data sets that all contain competitive data from 2014-2018. We will be focusing on the general LeagueofLegends, the Gold, and the Structures data set for this analysis. "
   ]
  },
  {
   "cell_type": "markdown",
   "metadata": {},
   "source": [
    "###### Import Packages"
   ]
  },
  {
   "cell_type": "code",
   "execution_count": 741,
   "metadata": {},
   "outputs": [],
   "source": [
    "#import packages\n",
    "import pandas as pd\n",
    "import numpy as np\n",
    "import seaborn as sns\n",
    "import matplotlib.pyplot as plt\n",
    "from sklearn import linear_model\n",
    "from ast import literal_eval\n",
    "from pandas.core.reshape.reshape import unstack"
   ]
  },
  {
   "cell_type": "markdown",
   "metadata": {},
   "source": [
    "###### League of Legends DataSet"
   ]
  },
  {
   "cell_type": "code",
   "execution_count": 742,
   "metadata": {},
   "outputs": [],
   "source": [
    "#import first dataset\n",
    "LoL = pd.read_csv('C:/Users/Kaylin/Documents/Data Sets/League of Legends/LeagueofLegends.csv')\n",
    "#LoL.info() #7620 x 57"
   ]
  },
  {
   "cell_type": "markdown",
   "metadata": {},
   "source": [
    "# Variable Analyses"
   ]
  },
  {
   "cell_type": "markdown",
   "metadata": {},
   "source": [
    "## Subsetting only 2017 Season Data"
   ]
  },
  {
   "cell_type": "markdown",
   "metadata": {},
   "source": [
    "We chose to focus on 2017 because it is the most recent, complete year. We also only want to focus on Season rows."
   ]
  },
  {
   "cell_type": "code",
   "execution_count": 743,
   "metadata": {},
   "outputs": [],
   "source": [
    "y2017 = LoL.loc[LoL['Year'] == 2017,]\n",
    "y2017 = y2017.loc[y2017['Type'] == 'Season']"
   ]
  },
  {
   "cell_type": "markdown",
   "metadata": {},
   "source": [
    "## 1. Blue vs Red Wins"
   ]
  },
  {
   "cell_type": "code",
   "execution_count": 744,
   "metadata": {},
   "outputs": [
    {
     "name": "stdout",
     "output_type": "stream",
     "text": [
      "      bResult  rResult\n",
      "Year                  \n",
      "2017     1456     1116\n"
     ]
    }
   ],
   "source": [
    "wins = y2017.groupby('Year')[['bResult', 'rResult']].sum()\n",
    "print(wins)"
   ]
  },
  {
   "cell_type": "markdown",
   "metadata": {},
   "source": [
    "The typical question of whether blue or red side wins more games! From this simple table, it looks like blue side won 340 games more than the red side.  "
   ]
  },
  {
   "cell_type": "markdown",
   "metadata": {},
   "source": [
    "## 2. Game Length"
   ]
  },
  {
   "cell_type": "code",
   "execution_count": 745,
   "metadata": {},
   "outputs": [
    {
     "data": {
      "text/plain": [
       "count    2572.000000\n",
       "mean       36.240669\n",
       "std         7.799661\n",
       "min        17.000000\n",
       "25%        31.000000\n",
       "50%        35.000000\n",
       "75%        41.000000\n",
       "max        78.000000\n",
       "Name: gamelength, dtype: float64"
      ]
     },
     "execution_count": 745,
     "metadata": {},
     "output_type": "execute_result"
    }
   ],
   "source": [
    "y2017['gamelength'].describe()"
   ]
  },
  {
   "cell_type": "code",
   "execution_count": 746,
   "metadata": {},
   "outputs": [
    {
     "data": {
      "text/plain": [
       "(10, 57)"
      ]
     },
     "execution_count": 746,
     "metadata": {},
     "output_type": "execute_result"
    }
   ],
   "source": [
    "y2017_2 = y2017[y2017.gamelength > 65]\n",
    "y2017_2.shape "
   ]
  },
  {
   "cell_type": "markdown",
   "metadata": {},
   "source": [
    "There are only 10 games over 65 minutes out of the 2572. This is about 3 standard deviations above the 75% quartile.\n",
    "\n",
    "We'll just clean it up a bit and take these out"
   ]
  },
  {
   "cell_type": "code",
   "execution_count": 747,
   "metadata": {},
   "outputs": [
    {
     "data": {
      "text/plain": [
       "count    2562.000000\n",
       "mean       36.112412\n",
       "std         7.535977\n",
       "min        17.000000\n",
       "25%        30.000000\n",
       "50%        35.000000\n",
       "75%        41.000000\n",
       "max        65.000000\n",
       "Name: gamelength, dtype: float64"
      ]
     },
     "execution_count": 747,
     "metadata": {},
     "output_type": "execute_result"
    }
   ],
   "source": [
    "y2017 = y2017[y2017.gamelength <= 65]\n",
    "y2017['gamelength'].describe()"
   ]
  },
  {
   "cell_type": "code",
   "execution_count": 748,
   "metadata": {
    "scrolled": false
   },
   "outputs": [
    {
     "data": {
      "image/png": "[encoded data removed]",
      "text/plain": [
       "<matplotlib.figure.Figure at 0xbc20fc5208>"
      ]
     },
     "metadata": {},
     "output_type": "display_data"
    }
   ],
   "source": [
    "fig, ax = plt.subplots(0,2, figsize=(16,11))\n",
    "\n",
    "p1 = plt.subplot2grid((2,4), (0,0), colspan = 1)\n",
    "sns.boxplot(y = y2017['gamelength'], color = 'lavender')\n",
    "plt.title(\"Boxplot for Distribution of Game Length\")\n",
    "plt.xlabel(\"Games\") \n",
    "plt.ylabel(\"Minutes\")\n",
    "\n",
    "p2 = plt.subplot2grid((2,4), (0,1), colspan = 3)\n",
    "plt.hist(x= 'gamelength', bins = 16, data = y2017, color = 'lightcyan', edgecolor = 'grey')\n",
    "plt.title(\"Histogram for Distribution of Game Length\")\n",
    "plt.xlabel(\"Minutes\")\n",
    "plt.ylabel(\"Count\")\n",
    "\n",
    "plt.show()"
   ]
  },
  {
   "cell_type": "markdown",
   "metadata": {},
   "source": [
    "From the boxplot and histogram, we can see that most competitive games during 2017 Season only lasted between 30-40 minutes long. The distribution is skewed left. Fromt the summary statistics, a game can go from 17 minutes to 78 minutes. However we decided to remove games over 65 minutes. "
   ]
  },
  {
   "cell_type": "markdown",
   "metadata": {},
   "source": [
    "## 3. Gold Difference "
   ]
  },
  {
   "cell_type": "code",
   "execution_count": 749,
   "metadata": {},
   "outputs": [
    {
     "data": {
      "text/plain": [
       "(99060, 97)"
      ]
     },
     "execution_count": 749,
     "metadata": {},
     "output_type": "execute_result"
    }
   ],
   "source": [
    "#import the data for gold\n",
    "gold = pd.read_csv('C:/Users/Kaylin/Documents/Data Sets/League of Legends/gold.csv')\n",
    "gold.shape"
   ]
  },
  {
   "cell_type": "code",
   "execution_count": 750,
   "metadata": {},
   "outputs": [
    {
     "data": {
      "text/plain": [
       "(7620, 97)"
      ]
     },
     "execution_count": 750,
     "metadata": {},
     "output_type": "execute_result"
    }
   ],
   "source": [
    "#only keep gold difference type\n",
    "golddiff = gold[gold.Type == 'golddiff']\n",
    "golddiff.shape"
   ]
  },
  {
   "cell_type": "code",
   "execution_count": 751,
   "metadata": {},
   "outputs": [],
   "source": [
    "#keep only address from the y2017 dataset in order to get the 2017 data \n",
    "justaddress2017 = y2017.Address\n",
    "justaddress2017 = pd.DataFrame(justaddress2017)"
   ]
  },
  {
   "cell_type": "code",
   "execution_count": 791,
   "metadata": {},
   "outputs": [],
   "source": [
    "#merge the two together in order to get gold difference in games for 2017\n",
    "y2017golddiff = pd.merge(justaddress2017, golddiff, on = ['Address'])"
   ]
  },
  {
   "cell_type": "code",
   "execution_count": 753,
   "metadata": {},
   "outputs": [
    {
     "data": {
      "text/html": [
       "<div>\n",
       "<style scoped>\n",
       "    .dataframe tbody tr th:only-of-type {\n",
       "        vertical-align: middle;\n",
       "    }\n",
       "\n",
       "    .dataframe tbody tr th {\n",
       "        vertical-align: top;\n",
       "    }\n",
       "\n",
       "    .dataframe thead th {\n",
       "        text-align: right;\n",
       "    }\n",
       "</style>\n",
       "<table border=\"1\" class=\"dataframe\">\n",
       "  <thead>\n",
       "    <tr style=\"text-align: right;\">\n",
       "      <th></th>\n",
       "      <th>min_1</th>\n",
       "      <th>min_2</th>\n",
       "      <th>min_3</th>\n",
       "      <th>min_4</th>\n",
       "      <th>min_5</th>\n",
       "      <th>min_6</th>\n",
       "      <th>min_7</th>\n",
       "      <th>min_8</th>\n",
       "      <th>min_9</th>\n",
       "      <th>min_10</th>\n",
       "      <th>...</th>\n",
       "      <th>min_56</th>\n",
       "      <th>min_57</th>\n",
       "      <th>min_58</th>\n",
       "      <th>min_59</th>\n",
       "      <th>min_60</th>\n",
       "      <th>min_61</th>\n",
       "      <th>min_62</th>\n",
       "      <th>min_63</th>\n",
       "      <th>min_64</th>\n",
       "      <th>min_65</th>\n",
       "    </tr>\n",
       "  </thead>\n",
       "  <tbody>\n",
       "    <tr>\n",
       "      <th>count</th>\n",
       "      <td>2562.0</td>\n",
       "      <td>2562.000000</td>\n",
       "      <td>2562.000000</td>\n",
       "      <td>2562.000000</td>\n",
       "      <td>2562.000000</td>\n",
       "      <td>2562.000000</td>\n",
       "      <td>2562.000000</td>\n",
       "      <td>2562.000000</td>\n",
       "      <td>2562.000000</td>\n",
       "      <td>2562.000000</td>\n",
       "      <td>...</td>\n",
       "      <td>42.000000</td>\n",
       "      <td>35.000000</td>\n",
       "      <td>23.000000</td>\n",
       "      <td>18.000000</td>\n",
       "      <td>15.000000</td>\n",
       "      <td>14.000000</td>\n",
       "      <td>10.000000</td>\n",
       "      <td>7.000000</td>\n",
       "      <td>4.00000</td>\n",
       "      <td>1.0</td>\n",
       "    </tr>\n",
       "    <tr>\n",
       "      <th>mean</th>\n",
       "      <td>0.0</td>\n",
       "      <td>-0.060109</td>\n",
       "      <td>4.124902</td>\n",
       "      <td>21.323575</td>\n",
       "      <td>40.580406</td>\n",
       "      <td>61.510929</td>\n",
       "      <td>91.534738</td>\n",
       "      <td>109.129586</td>\n",
       "      <td>135.846995</td>\n",
       "      <td>165.976581</td>\n",
       "      <td>...</td>\n",
       "      <td>-663.380952</td>\n",
       "      <td>-647.857143</td>\n",
       "      <td>-2059.173913</td>\n",
       "      <td>-2897.055556</td>\n",
       "      <td>-2759.133333</td>\n",
       "      <td>-1918.000000</td>\n",
       "      <td>-4399.200000</td>\n",
       "      <td>-3091.714286</td>\n",
       "      <td>-4531.50000</td>\n",
       "      <td>5426.0</td>\n",
       "    </tr>\n",
       "    <tr>\n",
       "      <th>std</th>\n",
       "      <td>0.0</td>\n",
       "      <td>71.606327</td>\n",
       "      <td>137.445215</td>\n",
       "      <td>269.450576</td>\n",
       "      <td>436.885698</td>\n",
       "      <td>557.204730</td>\n",
       "      <td>674.589142</td>\n",
       "      <td>824.737681</td>\n",
       "      <td>977.074404</td>\n",
       "      <td>1170.945356</td>\n",
       "      <td>...</td>\n",
       "      <td>5414.345714</td>\n",
       "      <td>5597.920854</td>\n",
       "      <td>5991.923038</td>\n",
       "      <td>6391.924155</td>\n",
       "      <td>6663.303812</td>\n",
       "      <td>6184.693786</td>\n",
       "      <td>5761.564271</td>\n",
       "      <td>5723.627396</td>\n",
       "      <td>8020.08485</td>\n",
       "      <td>NaN</td>\n",
       "    </tr>\n",
       "    <tr>\n",
       "      <th>min</th>\n",
       "      <td>0.0</td>\n",
       "      <td>-1273.000000</td>\n",
       "      <td>-1327.000000</td>\n",
       "      <td>-1544.000000</td>\n",
       "      <td>-1702.000000</td>\n",
       "      <td>-2667.000000</td>\n",
       "      <td>-2977.000000</td>\n",
       "      <td>-3723.000000</td>\n",
       "      <td>-3561.000000</td>\n",
       "      <td>-4795.000000</td>\n",
       "      <td>...</td>\n",
       "      <td>-11888.000000</td>\n",
       "      <td>-12275.000000</td>\n",
       "      <td>-11198.000000</td>\n",
       "      <td>-11062.000000</td>\n",
       "      <td>-11509.000000</td>\n",
       "      <td>-10146.000000</td>\n",
       "      <td>-11826.000000</td>\n",
       "      <td>-9259.000000</td>\n",
       "      <td>-12452.00000</td>\n",
       "      <td>5426.0</td>\n",
       "    </tr>\n",
       "    <tr>\n",
       "      <th>25%</th>\n",
       "      <td>0.0</td>\n",
       "      <td>0.000000</td>\n",
       "      <td>-42.000000</td>\n",
       "      <td>-113.750000</td>\n",
       "      <td>-176.000000</td>\n",
       "      <td>-256.000000</td>\n",
       "      <td>-326.500000</td>\n",
       "      <td>-417.000000</td>\n",
       "      <td>-465.250000</td>\n",
       "      <td>-536.750000</td>\n",
       "      <td>...</td>\n",
       "      <td>-4269.250000</td>\n",
       "      <td>-6007.500000</td>\n",
       "      <td>-7227.500000</td>\n",
       "      <td>-8301.500000</td>\n",
       "      <td>-8099.500000</td>\n",
       "      <td>-7585.000000</td>\n",
       "      <td>-8515.500000</td>\n",
       "      <td>-7759.500000</td>\n",
       "      <td>-10907.00000</td>\n",
       "      <td>5426.0</td>\n",
       "    </tr>\n",
       "    <tr>\n",
       "      <th>50%</th>\n",
       "      <td>0.0</td>\n",
       "      <td>0.000000</td>\n",
       "      <td>5.000000</td>\n",
       "      <td>15.000000</td>\n",
       "      <td>32.000000</td>\n",
       "      <td>53.500000</td>\n",
       "      <td>76.000000</td>\n",
       "      <td>84.000000</td>\n",
       "      <td>89.500000</td>\n",
       "      <td>113.000000</td>\n",
       "      <td>...</td>\n",
       "      <td>-535.500000</td>\n",
       "      <td>796.000000</td>\n",
       "      <td>-4088.000000</td>\n",
       "      <td>-4078.500000</td>\n",
       "      <td>-4832.000000</td>\n",
       "      <td>-2221.500000</td>\n",
       "      <td>-6458.500000</td>\n",
       "      <td>-3853.000000</td>\n",
       "      <td>-4357.00000</td>\n",
       "      <td>5426.0</td>\n",
       "    </tr>\n",
       "    <tr>\n",
       "      <th>75%</th>\n",
       "      <td>0.0</td>\n",
       "      <td>0.000000</td>\n",
       "      <td>52.000000</td>\n",
       "      <td>142.000000</td>\n",
       "      <td>256.750000</td>\n",
       "      <td>389.750000</td>\n",
       "      <td>509.750000</td>\n",
       "      <td>625.500000</td>\n",
       "      <td>701.500000</td>\n",
       "      <td>834.250000</td>\n",
       "      <td>...</td>\n",
       "      <td>2639.000000</td>\n",
       "      <td>2955.000000</td>\n",
       "      <td>2801.000000</td>\n",
       "      <td>2642.000000</td>\n",
       "      <td>3526.000000</td>\n",
       "      <td>4193.250000</td>\n",
       "      <td>-442.750000</td>\n",
       "      <td>783.500000</td>\n",
       "      <td>2018.50000</td>\n",
       "      <td>5426.0</td>\n",
       "    </tr>\n",
       "    <tr>\n",
       "      <th>max</th>\n",
       "      <td>0.0</td>\n",
       "      <td>875.000000</td>\n",
       "      <td>1055.000000</td>\n",
       "      <td>1434.000000</td>\n",
       "      <td>1927.000000</td>\n",
       "      <td>2038.000000</td>\n",
       "      <td>2568.000000</td>\n",
       "      <td>3877.000000</td>\n",
       "      <td>4288.000000</td>\n",
       "      <td>5526.000000</td>\n",
       "      <td>...</td>\n",
       "      <td>10284.000000</td>\n",
       "      <td>10651.000000</td>\n",
       "      <td>8926.000000</td>\n",
       "      <td>8097.000000</td>\n",
       "      <td>6676.000000</td>\n",
       "      <td>6938.000000</td>\n",
       "      <td>5339.000000</td>\n",
       "      <td>5422.000000</td>\n",
       "      <td>3040.00000</td>\n",
       "      <td>5426.0</td>\n",
       "    </tr>\n",
       "  </tbody>\n",
       "</table>\n",
       "<p>8 rows × 65 columns</p>\n",
       "</div>"
      ],
      "text/plain": [
       "        min_1        min_2        min_3        min_4        min_5  \\\n",
       "count  2562.0  2562.000000  2562.000000  2562.000000  2562.000000   \n",
       "mean      0.0    -0.060109     4.124902    21.323575    40.580406   \n",
       "std       0.0    71.606327   137.445215   269.450576   436.885698   \n",
       "min       0.0 -1273.000000 -1327.000000 -1544.000000 -1702.000000   \n",
       "25%       0.0     0.000000   -42.000000  -113.750000  -176.000000   \n",
       "50%       0.0     0.000000     5.000000    15.000000    32.000000   \n",
       "75%       0.0     0.000000    52.000000   142.000000   256.750000   \n",
       "max       0.0   875.000000  1055.000000  1434.000000  1927.000000   \n",
       "\n",
       "             min_6        min_7        min_8        min_9       min_10  \\\n",
       "count  2562.000000  2562.000000  2562.000000  2562.000000  2562.000000   \n",
       "mean     61.510929    91.534738   109.129586   135.846995   165.976581   \n",
       "std     557.204730   674.589142   824.737681   977.074404  1170.945356   \n",
       "min   -2667.000000 -2977.000000 -3723.000000 -3561.000000 -4795.000000   \n",
       "25%    -256.000000  -326.500000  -417.000000  -465.250000  -536.750000   \n",
       "50%      53.500000    76.000000    84.000000    89.500000   113.000000   \n",
       "75%     389.750000   509.750000   625.500000   701.500000   834.250000   \n",
       "max    2038.000000  2568.000000  3877.000000  4288.000000  5526.000000   \n",
       "\n",
       "        ...          min_56        min_57        min_58        min_59  \\\n",
       "count   ...       42.000000     35.000000     23.000000     18.000000   \n",
       "mean    ...     -663.380952   -647.857143  -2059.173913  -2897.055556   \n",
       "std     ...     5414.345714   5597.920854   5991.923038   6391.924155   \n",
       "min     ...   -11888.000000 -12275.000000 -11198.000000 -11062.000000   \n",
       "25%     ...    -4269.250000  -6007.500000  -7227.500000  -8301.500000   \n",
       "50%     ...     -535.500000    796.000000  -4088.000000  -4078.500000   \n",
       "75%     ...     2639.000000   2955.000000   2801.000000   2642.000000   \n",
       "max     ...    10284.000000  10651.000000   8926.000000   8097.000000   \n",
       "\n",
       "             min_60        min_61        min_62       min_63       min_64  \\\n",
       "count     15.000000     14.000000     10.000000     7.000000      4.00000   \n",
       "mean   -2759.133333  -1918.000000  -4399.200000 -3091.714286  -4531.50000   \n",
       "std     6663.303812   6184.693786   5761.564271  5723.627396   8020.08485   \n",
       "min   -11509.000000 -10146.000000 -11826.000000 -9259.000000 -12452.00000   \n",
       "25%    -8099.500000  -7585.000000  -8515.500000 -7759.500000 -10907.00000   \n",
       "50%    -4832.000000  -2221.500000  -6458.500000 -3853.000000  -4357.00000   \n",
       "75%     3526.000000   4193.250000   -442.750000   783.500000   2018.50000   \n",
       "max     6676.000000   6938.000000   5339.000000  5422.000000   3040.00000   \n",
       "\n",
       "       min_65  \n",
       "count     1.0  \n",
       "mean   5426.0  \n",
       "std       NaN  \n",
       "min    5426.0  \n",
       "25%    5426.0  \n",
       "50%    5426.0  \n",
       "75%    5426.0  \n",
       "max    5426.0  \n",
       "\n",
       "[8 rows x 65 columns]"
      ]
     },
     "execution_count": 753,
     "metadata": {},
     "output_type": "execute_result"
    }
   ],
   "source": [
    "#only keep columns with minutes\n",
    "y2017golddiff = y2017golddiff.iloc[:,2:67]\n",
    "y2017golddiff.describe()"
   ]
  },
  {
   "cell_type": "markdown",
   "metadata": {},
   "source": [
    "Average Gold Difference for 2017 competitive games for each minute"
   ]
  },
  {
   "cell_type": "code",
   "execution_count": 754,
   "metadata": {
    "scrolled": false
   },
   "outputs": [],
   "source": [
    "#only select the mean from the describe table\n",
    "y2017golddiff_df = pd.DataFrame(y2017golddiff.describe())\n",
    "y2017golddiff_mean = y2017golddiff_df.loc['mean']"
   ]
  },
  {
   "cell_type": "code",
   "execution_count": 755,
   "metadata": {},
   "outputs": [
    {
     "data": {
      "text/html": [
       "<div>\n",
       "<style scoped>\n",
       "    .dataframe tbody tr th:only-of-type {\n",
       "        vertical-align: middle;\n",
       "    }\n",
       "\n",
       "    .dataframe tbody tr th {\n",
       "        vertical-align: top;\n",
       "    }\n",
       "\n",
       "    .dataframe thead th {\n",
       "        text-align: right;\n",
       "    }\n",
       "</style>\n",
       "<table border=\"1\" class=\"dataframe\">\n",
       "  <thead>\n",
       "    <tr style=\"text-align: right;\">\n",
       "      <th></th>\n",
       "      <th>mean</th>\n",
       "    </tr>\n",
       "  </thead>\n",
       "  <tbody>\n",
       "    <tr>\n",
       "      <th>min_1</th>\n",
       "      <td>0.000000</td>\n",
       "    </tr>\n",
       "    <tr>\n",
       "      <th>min_2</th>\n",
       "      <td>-0.060109</td>\n",
       "    </tr>\n",
       "    <tr>\n",
       "      <th>min_3</th>\n",
       "      <td>4.124902</td>\n",
       "    </tr>\n",
       "    <tr>\n",
       "      <th>min_4</th>\n",
       "      <td>21.323575</td>\n",
       "    </tr>\n",
       "    <tr>\n",
       "      <th>min_5</th>\n",
       "      <td>40.580406</td>\n",
       "    </tr>\n",
       "  </tbody>\n",
       "</table>\n",
       "</div>"
      ],
      "text/plain": [
       "            mean\n",
       "min_1   0.000000\n",
       "min_2  -0.060109\n",
       "min_3   4.124902\n",
       "min_4  21.323575\n",
       "min_5  40.580406"
      ]
     },
     "execution_count": 755,
     "metadata": {},
     "output_type": "execute_result"
    }
   ],
   "source": [
    "#turn the mean and minute into a data frame\n",
    "y2017golddiff_mean = pd.DataFrame(y2017golddiff_mean)\n",
    "y2017golddiff_mean.head() #should match the describe() means"
   ]
  },
  {
   "cell_type": "code",
   "execution_count": 756,
   "metadata": {},
   "outputs": [
    {
     "data": {
      "text/html": [
       "<div>\n",
       "<style scoped>\n",
       "    .dataframe tbody tr th:only-of-type {\n",
       "        vertical-align: middle;\n",
       "    }\n",
       "\n",
       "    .dataframe tbody tr th {\n",
       "        vertical-align: top;\n",
       "    }\n",
       "\n",
       "    .dataframe thead th {\n",
       "        text-align: right;\n",
       "    }\n",
       "</style>\n",
       "<table border=\"1\" class=\"dataframe\">\n",
       "  <thead>\n",
       "    <tr style=\"text-align: right;\">\n",
       "      <th></th>\n",
       "      <th>index</th>\n",
       "      <th>mean</th>\n",
       "    </tr>\n",
       "  </thead>\n",
       "  <tbody>\n",
       "    <tr>\n",
       "      <th>1</th>\n",
       "      <td>min_1</td>\n",
       "      <td>0.000000</td>\n",
       "    </tr>\n",
       "    <tr>\n",
       "      <th>2</th>\n",
       "      <td>min_2</td>\n",
       "      <td>-0.060109</td>\n",
       "    </tr>\n",
       "    <tr>\n",
       "      <th>3</th>\n",
       "      <td>min_3</td>\n",
       "      <td>4.124902</td>\n",
       "    </tr>\n",
       "    <tr>\n",
       "      <th>4</th>\n",
       "      <td>min_4</td>\n",
       "      <td>21.323575</td>\n",
       "    </tr>\n",
       "    <tr>\n",
       "      <th>5</th>\n",
       "      <td>min_5</td>\n",
       "      <td>40.580406</td>\n",
       "    </tr>\n",
       "  </tbody>\n",
       "</table>\n",
       "</div>"
      ],
      "text/plain": [
       "   index       mean\n",
       "1  min_1   0.000000\n",
       "2  min_2  -0.060109\n",
       "3  min_3   4.124902\n",
       "4  min_4  21.323575\n",
       "5  min_5  40.580406"
      ]
     },
     "execution_count": 756,
     "metadata": {},
     "output_type": "execute_result"
    }
   ],
   "source": [
    "#reindex so it's easier to plot (matching index with minute)\n",
    "y2017golddiff_mean.reset_index(level=0, inplace=True)\n",
    "y2017golddiff_mean.index = y2017golddiff_mean.index + 1\n",
    "\n",
    "y2017golddiff_mean.head()"
   ]
  },
  {
   "cell_type": "markdown",
   "metadata": {},
   "source": [
    "Make a plot of average gold difference over time"
   ]
  },
  {
   "cell_type": "code",
   "execution_count": 790,
   "metadata": {},
   "outputs": [
    {
     "data": {
      "image/png": "[encoded data removed]",
      "text/plain": [
       "<matplotlib.figure.Figure at 0xbc039c29b0>"
      ]
     },
     "metadata": {},
     "output_type": "display_data"
    }
   ],
   "source": [
    "plt.scatter(x = y2017golddiff_mean.index, y = y2017golddiff_mean['mean'])\n",
    "plt.title('Average Gold Difference Over Time')\n",
    "plt.xlabel('Minutes')\n",
    "plt.ylabel('Gold Difference')\n",
    "plt.show()"
   ]
  },
  {
   "cell_type": "markdown",
   "metadata": {},
   "source": [
    "From this plot, we can see that as time gets toward the tail-end of game length (over 40 minutes), the average gold difference becomes rather drastic. This could be because once the game goes longer, one of the teams will start getting more and more ahead of the other. "
   ]
  },
  {
   "cell_type": "markdown",
   "metadata": {},
   "source": [
    "## 4. Most and Least Banned Champions in 2017"
   ]
  },
  {
   "cell_type": "code",
   "execution_count": 759,
   "metadata": {},
   "outputs": [],
   "source": [
    "blueBans2017 = y2017['blueBans'].apply(literal_eval)\n",
    "redBans2017 = y2017['redBans'].apply(literal_eval)\n",
    "\n",
    "bans = blueBans2017.append(redBans2017) #combine the red and blue bans for a total bans data frame"
   ]
  },
  {
   "cell_type": "code",
   "execution_count": 760,
   "metadata": {},
   "outputs": [],
   "source": [
    "dfBans = pd.DataFrame(bans) #create the data frame\n",
    "dfBans.columns = [\"bans\"] #rename the column "
   ]
  },
  {
   "cell_type": "code",
   "execution_count": 761,
   "metadata": {},
   "outputs": [
    {
     "data": {
      "text/html": [
       "<div>\n",
       "<style scoped>\n",
       "    .dataframe tbody tr th:only-of-type {\n",
       "        vertical-align: middle;\n",
       "    }\n",
       "\n",
       "    .dataframe tbody tr th {\n",
       "        vertical-align: top;\n",
       "    }\n",
       "\n",
       "    .dataframe thead th {\n",
       "        text-align: right;\n",
       "    }\n",
       "</style>\n",
       "<table border=\"1\" class=\"dataframe\">\n",
       "  <thead>\n",
       "    <tr style=\"text-align: right;\">\n",
       "      <th></th>\n",
       "      <th>bans</th>\n",
       "    </tr>\n",
       "  </thead>\n",
       "  <tbody>\n",
       "    <tr>\n",
       "      <th>609</th>\n",
       "      <td>[Rengar, Olaf, Janna, Nautilus, Poppy]</td>\n",
       "    </tr>\n",
       "    <tr>\n",
       "      <th>610</th>\n",
       "      <td>[Zyra, Maokai, Ryze, Fiora, Jayce]</td>\n",
       "    </tr>\n",
       "    <tr>\n",
       "      <th>611</th>\n",
       "      <td>[Zyra, Syndra, Ryze, Orianna, Karma]</td>\n",
       "    </tr>\n",
       "    <tr>\n",
       "      <th>612</th>\n",
       "      <td>[Ryze, Kennen, Malzahar, Zyra, Rumble]</td>\n",
       "    </tr>\n",
       "    <tr>\n",
       "      <th>613</th>\n",
       "      <td>[Kalista, Olaf, Zyra, MissFortune, Ekko]</td>\n",
       "    </tr>\n",
       "  </tbody>\n",
       "</table>\n",
       "</div>"
      ],
      "text/plain": [
       "                                         bans\n",
       "609    [Rengar, Olaf, Janna, Nautilus, Poppy]\n",
       "610        [Zyra, Maokai, Ryze, Fiora, Jayce]\n",
       "611      [Zyra, Syndra, Ryze, Orianna, Karma]\n",
       "612    [Ryze, Kennen, Malzahar, Zyra, Rumble]\n",
       "613  [Kalista, Olaf, Zyra, MissFortune, Ekko]"
      ]
     },
     "execution_count": 761,
     "metadata": {},
     "output_type": "execute_result"
    }
   ],
   "source": [
    "dfBans.shape #to check if both columns were combined correctly, the shape needs 6622 rows because the original set had 3311 obs\n",
    "dfBans.head()"
   ]
  },
  {
   "cell_type": "code",
   "execution_count": 762,
   "metadata": {},
   "outputs": [
    {
     "data": {
      "text/plain": [
       "(25437, 1)"
      ]
     },
     "execution_count": 762,
     "metadata": {},
     "output_type": "execute_result"
    }
   ],
   "source": [
    "lst_col = 'bans'\n",
    "\n",
    "#get the names out of the 'pseudo'-list\n",
    "b = pd.DataFrame({\n",
    "    col:np.repeat(dfBans[col].values, dfBans[lst_col].str.len())\n",
    "    for col in dfBans.columns.drop(lst_col)}).assign(**{lst_col:np.concatenate(dfBans[lst_col].values)})[dfBans.columns]\n",
    "\n",
    "b.shape #25437 total bans in 2017 for competitive matches"
   ]
  },
  {
   "cell_type": "code",
   "execution_count": 763,
   "metadata": {},
   "outputs": [],
   "source": [
    "#get the total each champion in 2017 was banned in competitive matches\n",
    "common1 = b.groupby('bans')['bans'].count()"
   ]
  },
  {
   "cell_type": "code",
   "execution_count": 764,
   "metadata": {},
   "outputs": [],
   "source": [
    "#sort from largest to smallest; observe the top 10\n",
    "mostcommon1sort =common1.sort_values(ascending = False)[0:10]\n",
    "\n",
    "#sort from smallest to largest; observe top 10\n",
    "leastcommon1sort = common1.sort_values(ascending= True)[0:10]"
   ]
  },
  {
   "cell_type": "code",
   "execution_count": 765,
   "metadata": {},
   "outputs": [],
   "source": [
    "#turn into a dataframe\n",
    "leastcommon1df= pd.DataFrame(leastcommon1sort)\n",
    "leastcommon1df = leastcommon1df.reindex(leastcommon1df.index.rename('Champion'))\n",
    "leastcommon1df.reset_index(level=0, inplace=True)"
   ]
  },
  {
   "cell_type": "code",
   "execution_count": 766,
   "metadata": {},
   "outputs": [],
   "source": [
    "#turn into a dataframe\n",
    "mostcommon1df= pd.DataFrame(mostcommon1sort)\n",
    "mostcommon1df = mostcommon1df.reindex(mostcommon1df.index.rename('Champion'))\n",
    "mostcommon1df.reset_index(level=0, inplace=True)"
   ]
  },
  {
   "cell_type": "code",
   "execution_count": 767,
   "metadata": {},
   "outputs": [
    {
     "name": "stdout",
     "output_type": "stream",
     "text": [
      "  Champion  bans\n",
      "0  Leblanc  1516\n",
      "1  Camille  1159\n",
      "2   Syndra  1082\n",
      "3      Zac  1078\n",
      "4    Elise   995\n",
      "5  Caitlyn   840\n",
      "6    Jayce   836\n",
      "7   Rengar   788\n",
      "8     Shen   785\n",
      "9   Thresh   683\n"
     ]
    }
   ],
   "source": [
    "print(mostcommon1df)"
   ]
  },
  {
   "cell_type": "code",
   "execution_count": 768,
   "metadata": {},
   "outputs": [
    {
     "name": "stdout",
     "output_type": "stream",
     "text": [
      "       Champion  bans\n",
      "0       DrMundo     1\n",
      "1        Xerath     1\n",
      "2         Amumu     1\n",
      "3           Lux     1\n",
      "4         Quinn     1\n",
      "5          Sona     1\n",
      "6         Shaco     1\n",
      "7         Diana     1\n",
      "8  Fiddlesticks     2\n",
      "9          Jinx     2\n"
     ]
    }
   ],
   "source": [
    "print(leastcommon1df)"
   ]
  },
  {
   "cell_type": "code",
   "execution_count": 794,
   "metadata": {
    "scrolled": true
   },
   "outputs": [
    {
     "data": {
      "text/plain": [
       "Text(0.5,1,'Least Banned Champions of 2017 Season')"
      ]
     },
     "execution_count": 794,
     "metadata": {},
     "output_type": "execute_result"
    },
    {
     "data": {
      "image/png": "[encoded data removed]",
      "text/plain": [
       "<matplotlib.figure.Figure at 0xbc03bc9c50>"
      ]
     },
     "metadata": {},
     "output_type": "display_data"
    }
   ],
   "source": [
    "fig, ax = plt.subplots(0,2, figsize=(16,11))\n",
    "\n",
    "p1 = plt.subplot(221)\n",
    "mostchart = plt.bar(mostcommon1df['Champion'], mostcommon1df['bans'], color = 'mistyrose', edgecolor = 'grey')\n",
    "plt.title('Most Banned Champions of 2017 Season')\n",
    "\n",
    "p2 = plt.subplot(222)\n",
    "leastchart = plt.bar(leastcommon1df['Champion'], leastcommon1df['bans'], color = 'lemonchiffon', edgecolor = 'grey')\n",
    "plt.title('Least Banned Champions of 2017 Season')"
   ]
  },
  {
   "cell_type": "markdown",
   "metadata": {},
   "source": [
    "From these table and barplot, we can see that the most common champion banned during the 2017 Season was LeBlanc and the least banned were Amumu, Diana, Mundo, Lux, Quinn, Shaco, Sona, and Xerath. \n",
    "\n",
    "LeBlanc was banned over 1516 times out of the 2562 competitive games. Meanwhile, there were 8 champions that were only banned once. Surprisingly, this indicates that every champion during 2017 was banned at least once! There were none that were left out of the big screen ban picks. "
   ]
  },
  {
   "cell_type": "markdown",
   "metadata": {},
   "source": [
    "# Modeling "
   ]
  },
  {
   "cell_type": "markdown",
   "metadata": {},
   "source": [
    "### What times should you take down the first structure in order to increase your chance of winning the game?\n",
    "\n",
    "Does taking down the first tower/objective earlier increase your chances of winning?\n",
    "\n",
    "We need to use the structures data set in the League of Legends Kaggle Data zip file and merge it with the general LoL set. \n",
    "\n",
    "First we will read in the structures and group by the Address. We will only be keeping the Time variable and find the minimum, which indicates when the first tower is taken down. \n",
    "\n",
    "Once we find when the first tower was taken down, we need to find out which team took it and if that team won. \n"
   ]
  },
  {
   "cell_type": "code",
   "execution_count": 770,
   "metadata": {},
   "outputs": [],
   "source": [
    "structures = pd.read_csv('C:/Users/Kaylin/Documents/Data Sets/League of Legends/structures.csv')"
   ]
  },
  {
   "cell_type": "code",
   "execution_count": 771,
   "metadata": {},
   "outputs": [],
   "source": [
    "timetable = structures.groupby('Address')['Time'].min() \n",
    "#Only get the first tower data"
   ]
  },
  {
   "cell_type": "code",
   "execution_count": 772,
   "metadata": {},
   "outputs": [
    {
     "data": {
      "text/plain": [
       "(7620,)"
      ]
     },
     "execution_count": 772,
     "metadata": {},
     "output_type": "execute_result"
    }
   ],
   "source": [
    "timetable.shape \n",
    "#Check if this matches the LoL data shape\n",
    "#Should only be one per game recorded"
   ]
  },
  {
   "cell_type": "code",
   "execution_count": 773,
   "metadata": {},
   "outputs": [
    {
     "data": {
      "text/html": [
       "<div>\n",
       "<style scoped>\n",
       "    .dataframe tbody tr th:only-of-type {\n",
       "        vertical-align: middle;\n",
       "    }\n",
       "\n",
       "    .dataframe tbody tr th {\n",
       "        vertical-align: top;\n",
       "    }\n",
       "\n",
       "    .dataframe thead th {\n",
       "        text-align: right;\n",
       "    }\n",
       "</style>\n",
       "<table border=\"1\" class=\"dataframe\">\n",
       "  <thead>\n",
       "    <tr style=\"text-align: right;\">\n",
       "      <th></th>\n",
       "      <th>Address</th>\n",
       "      <th>Time</th>\n",
       "    </tr>\n",
       "  </thead>\n",
       "  <tbody>\n",
       "    <tr>\n",
       "      <th>0</th>\n",
       "      <td>http://matchhistory.br.leagueoflegends.com/pt/...</td>\n",
       "      <td>9.397</td>\n",
       "    </tr>\n",
       "    <tr>\n",
       "      <th>1</th>\n",
       "      <td>http://matchhistory.br.leagueoflegends.com/pt/...</td>\n",
       "      <td>8.670</td>\n",
       "    </tr>\n",
       "    <tr>\n",
       "      <th>2</th>\n",
       "      <td>http://matchhistory.br.leagueoflegends.com/pt/...</td>\n",
       "      <td>9.075</td>\n",
       "    </tr>\n",
       "    <tr>\n",
       "      <th>3</th>\n",
       "      <td>http://matchhistory.br.leagueoflegends.com/pt/...</td>\n",
       "      <td>9.340</td>\n",
       "    </tr>\n",
       "    <tr>\n",
       "      <th>4</th>\n",
       "      <td>http://matchhistory.br.leagueoflegends.com/pt/...</td>\n",
       "      <td>13.053</td>\n",
       "    </tr>\n",
       "  </tbody>\n",
       "</table>\n",
       "</div>"
      ],
      "text/plain": [
       "                                             Address    Time\n",
       "0  http://matchhistory.br.leagueoflegends.com/pt/...   9.397\n",
       "1  http://matchhistory.br.leagueoflegends.com/pt/...   8.670\n",
       "2  http://matchhistory.br.leagueoflegends.com/pt/...   9.075\n",
       "3  http://matchhistory.br.leagueoflegends.com/pt/...   9.340\n",
       "4  http://matchhistory.br.leagueoflegends.com/pt/...  13.053"
      ]
     },
     "execution_count": 773,
     "metadata": {},
     "output_type": "execute_result"
    }
   ],
   "source": [
    "timetabledf = pd.DataFrame(timetable)\n",
    "timetabledf.reset_index(level=0, inplace=True)\n",
    "timetabledf.head()"
   ]
  },
  {
   "cell_type": "markdown",
   "metadata": {},
   "source": [
    "Merge the two data sets and only include the smallest time a tower was taken down. Then merge this data set into the original LoL data."
   ]
  },
  {
   "cell_type": "code",
   "execution_count": 774,
   "metadata": {},
   "outputs": [],
   "source": [
    "structures_merge = pd.merge(structures,timetabledf, on=['Address', 'Time'])"
   ]
  },
  {
   "cell_type": "code",
   "execution_count": 775,
   "metadata": {},
   "outputs": [
    {
     "data": {
      "text/plain": [
       "(7622, 61)"
      ]
     },
     "execution_count": 775,
     "metadata": {},
     "output_type": "execute_result"
    }
   ],
   "source": [
    "structuresLoL_merge = pd.merge(structures_merge, LoL, on = ['Address'])\n",
    "structuresLoL_merge.shape"
   ]
  },
  {
   "cell_type": "code",
   "execution_count": 776,
   "metadata": {},
   "outputs": [],
   "source": [
    "structuresLoL = structuresLoL_merge[['Time', 'Team', 'Lane', 'Year', 'Address', 'bResult', 'rResult', 'Type_y']]"
   ]
  },
  {
   "cell_type": "markdown",
   "metadata": {},
   "source": [
    "Keep only 2017 Season Data"
   ]
  },
  {
   "cell_type": "code",
   "execution_count": 777,
   "metadata": {},
   "outputs": [],
   "source": [
    "structuresLoL2017 = structuresLoL[structuresLoL.Year == 2017]\n",
    "structuresLoL2017_season = structuresLoL2017[structuresLoL2017.Type_y == 'Season']"
   ]
  },
  {
   "cell_type": "markdown",
   "metadata": {},
   "source": [
    "### Quick Exploratory Analysis of the New Data Set"
   ]
  },
  {
   "cell_type": "code",
   "execution_count": 778,
   "metadata": {},
   "outputs": [
    {
     "name": "stdout",
     "output_type": "stream",
     "text": [
      "      bResult  rResult\n",
      "Year                  \n",
      "2017     1456     1117\n"
     ]
    }
   ],
   "source": [
    "print(structuresLoL2017_season.groupby(['Year'])['bResult', 'rResult'].sum())"
   ]
  },
  {
   "cell_type": "code",
   "execution_count": 779,
   "metadata": {},
   "outputs": [
    {
     "data": {
      "text/plain": [
       "4.206"
      ]
     },
     "execution_count": 779,
     "metadata": {},
     "output_type": "execute_result"
    }
   ],
   "source": [
    "structuresLoL2017_season['Time'].min()"
   ]
  },
  {
   "cell_type": "markdown",
   "metadata": {},
   "source": [
    "The shortest time to take down a tower was about 4 minutes."
   ]
  },
  {
   "cell_type": "code",
   "execution_count": 780,
   "metadata": {},
   "outputs": [
    {
     "data": {
      "text/plain": [
       "bResult  rResult\n",
       "0        1          12.611315\n",
       "1        0          12.542127\n",
       "Name: Time, dtype: float64"
      ]
     },
     "execution_count": 780,
     "metadata": {},
     "output_type": "execute_result"
    }
   ],
   "source": [
    "structuresLoL2017_season.groupby(['bResult', 'rResult'])['Time'].mean()"
   ]
  },
  {
   "cell_type": "markdown",
   "metadata": {},
   "source": [
    "The average time for the winning blue team to take down a tower is about 12.54 minutes while the average time for the winning red team to take down a tower is 12.61 minutes. They're basically equal. "
   ]
  },
  {
   "cell_type": "code",
   "execution_count": 781,
   "metadata": {},
   "outputs": [
    {
     "name": "stdout",
     "output_type": "stream",
     "text": [
      "          Lane\n",
      "Lane          \n",
      "BOT_LANE  1324\n",
      "MID_LANE   365\n",
      "TOP_LANE   884\n"
     ]
    }
   ],
   "source": [
    "lanetowers1 = structuresLoL2017_season.groupby('Lane')['Lane'].count()\n",
    "lanetowers1df = pd.DataFrame(lanetowers1)\n",
    "\n",
    "print(lanetowers1df)"
   ]
  },
  {
   "cell_type": "code",
   "execution_count": 782,
   "metadata": {},
   "outputs": [
    {
     "data": {
      "image/png": "[encoded data removed]",
      "text/plain": [
       "<matplotlib.figure.Figure at 0xbc01bc0940>"
      ]
     },
     "metadata": {},
     "output_type": "display_data"
    }
   ],
   "source": [
    "fig, ax = plt.subplots(0,2, figsize=(16,11))\n",
    "\n",
    "p1 = plt.subplot2grid((2,4), (0,0), colspan = 1)\n",
    "barchart = plt.bar(lanetowers1df.index, lanetowers1df['Lane'], \n",
    "                   color = 'indianred', edgecolor = 'grey')\n",
    "plt.title('Lane that had the First Tower Taken')\n",
    "\n",
    "p2 = plt.subplot2grid((2,4), (0,1), colspan = 3)\n",
    "plt.hist(structuresLoL2017_season.Time, color = 'peachpuff', \n",
    "         edgecolor = 'grey')\n",
    "plt.title('Histogram of when the First Tower was Taken')\n",
    "\n",
    "plt.show()"
   ]
  },
  {
   "cell_type": "markdown",
   "metadata": {},
   "source": [
    "For the barplot, we can observe the count of towers that were the first to be taken down in the data set. It seems that Bottom Lane towers are the most frequent in being the first to go all 2017 competitive games recorded. Meanwhile, the Mid Lane tower seems to be the least. \n",
    "\n",
    "The histogram depicts the amount of time taken for the first tower to be taken down. 10-15 minutes appears to be a common time the first structure falls, but for a few games it took over 20 minutes."
   ]
  },
  {
   "cell_type": "markdown",
   "metadata": {},
   "source": [
    "### Building a Logistic Model"
   ]
  },
  {
   "cell_type": "markdown",
   "metadata": {},
   "source": [
    "We want to see if there's a time a team should take down a tower in order to increase their chances in winning. \n",
    "\n",
    "We will only be using the variables: Time and Result"
   ]
  },
  {
   "cell_type": "code",
   "execution_count": 783,
   "metadata": {},
   "outputs": [],
   "source": [
    "from patsy import dmatrices\n",
    "from sklearn.linear_model import LogisticRegression\n",
    "from sklearn.cross_validation import train_test_split\n",
    "from sklearn import metrics\n",
    "from sklearn.cross_validation import cross_val_score"
   ]
  },
  {
   "cell_type": "markdown",
   "metadata": {},
   "source": [
    "Prepare the data"
   ]
  },
  {
   "cell_type": "code",
   "execution_count": 784,
   "metadata": {},
   "outputs": [
    {
     "name": "stdout",
     "output_type": "stream",
     "text": [
      "Index(['Intercept', 'Team[T.rTowers]', 'Time'], dtype='object')\n"
     ]
    }
   ],
   "source": [
    "y, X = dmatrices('bResult ~ Time + Team', structuresLoL2017, return_type = \"dataframe\")\n",
    "\n",
    "print(X.columns)"
   ]
  },
  {
   "cell_type": "markdown",
   "metadata": {},
   "source": [
    "Flatten y to 1-D array"
   ]
  },
  {
   "cell_type": "code",
   "execution_count": 785,
   "metadata": {},
   "outputs": [],
   "source": [
    "y = np.ravel(y)"
   ]
  },
  {
   "cell_type": "markdown",
   "metadata": {},
   "source": [
    "Run model on entire data set to see how accurate: "
   ]
  },
  {
   "cell_type": "code",
   "execution_count": 786,
   "metadata": {},
   "outputs": [
    {
     "data": {
      "text/plain": [
       "0.6850845410628019"
      ]
     },
     "execution_count": 786,
     "metadata": {},
     "output_type": "execute_result"
    }
   ],
   "source": [
    "model = LogisticRegression()\n",
    "model = model.fit(X,y)\n",
    "model.score(X,y)"
   ]
  },
  {
   "cell_type": "markdown",
   "metadata": {},
   "source": [
    "As of now, we have about a 68.51% accuracy in predicting the chances of winning. "
   ]
  },
  {
   "cell_type": "code",
   "execution_count": 787,
   "metadata": {},
   "outputs": [
    {
     "data": {
      "text/plain": [
       "(Index(['Intercept', 'Team[T.rTowers]', 'Time'], dtype='object'),\n",
       " array([[ 0.5140865 , -1.51471327, -0.01118849]]))"
      ]
     },
     "execution_count": 787,
     "metadata": {},
     "output_type": "execute_result"
    }
   ],
   "source": [
    "X.columns, model.coef_"
   ]
  },
  {
   "cell_type": "code",
   "execution_count": null,
   "metadata": {},
   "outputs": [],
   "source": []
  },
  {
   "cell_type": "code",
   "execution_count": 788,
   "metadata": {},
   "outputs": [
    {
     "data": {
      "text/plain": [
       "<matplotlib.axes._subplots.AxesSubplot at 0xbc009db748>"
      ]
     },
     "execution_count": 788,
     "metadata": {},
     "output_type": "execute_result"
    },
    {
     "data": {
      "image/png": "[encoded data removed]",
      "text/plain": [
       "<matplotlib.figure.Figure at 0xbc006b7a20>"
      ]
     },
     "metadata": {},
     "output_type": "display_data"
    }
   ],
   "source": [
    "sns.regplot(x = 'Time', y = 'bResult', data = structuresLoL2017_season, logistic = True)"
   ]
  },
  {
   "cell_type": "code",
   "execution_count": 789,
   "metadata": {
    "scrolled": false
   },
   "outputs": [],
   "source": [
    "#TeamFactor = pd.factorize(structuresLoL2017_season.Team)[0]\n",
    "#structuresLoL2017_season['TeamFactor'] = TeamFactor"
   ]
  }
 ],
 "metadata": {
  "kernelspec": {
   "display_name": "Python 3",
   "language": "python",
   "name": "python3"
  },
  "language_info": {
   "codemirror_mode": {
    "name": "ipython",
    "version": 3
   },
   "file_extension": ".py",
   "mimetype": "text/x-python",
   "name": "python",
   "nbconvert_exporter": "python",
   "pygments_lexer": "ipython3",
   "version": "3.6.4"
  }
 },
 "nbformat": 4,
 "nbformat_minor": 2
}
