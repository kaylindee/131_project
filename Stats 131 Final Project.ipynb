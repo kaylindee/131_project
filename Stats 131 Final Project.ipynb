{
 "cells": [
  {
   "cell_type": "markdown",
   "metadata": {},
   "source": [
    "## Stats 131: Final Project\n",
    "### Kaylin Dee\n",
    "\n",
    "Basic Exploratory Analysis of League of Legends' Kaggle Data.\n",
    "\n",
    "The data from Kaggle consists of 7 separate data sets that all contain competitive data from 2014-2018. We will be focusing on the general LeagueofLegends, the Gold, and the Structures data set for this analysis. "
   ]
  },
  {
   "cell_type": "markdown",
   "metadata": {},
   "source": [
    "###### Import Packages"
   ]
  },
  {
   "cell_type": "code",
   "execution_count": 414,
   "metadata": {},
   "outputs": [],
   "source": [
    "#import packages\n",
    "import pandas as pd\n",
    "import numpy as np\n",
    "import seaborn as sns\n",
    "import matplotlib.pyplot as plt\n",
    "from sklearn import linear_model\n",
    "from ast import literal_eval\n",
    "from pandas.core.reshape.reshape import unstack"
   ]
  },
  {
   "cell_type": "markdown",
   "metadata": {},
   "source": [
    "###### League of Legends DataSet"
   ]
  },
  {
   "cell_type": "code",
   "execution_count": 415,
   "metadata": {},
   "outputs": [],
   "source": [
    "#import first dataset\n",
    "LoL = pd.read_csv('C:/Users/Kaylin/Documents/Data Sets/League of Legends/LeagueofLegends.csv')\n",
    "#LoL.info() #7620 x 57"
   ]
  },
  {
   "cell_type": "markdown",
   "metadata": {},
   "source": [
    "# Variable Analyses"
   ]
  },
  {
   "cell_type": "markdown",
   "metadata": {},
   "source": [
    "## Subsetting only 2017 Season Data"
   ]
  },
  {
   "cell_type": "markdown",
   "metadata": {},
   "source": [
    "We chose to focus on 2017 because it is the most recent, complete year. We also only want to focus on Season rows."
   ]
  },
  {
   "cell_type": "code",
   "execution_count": 416,
   "metadata": {},
   "outputs": [],
   "source": [
    "y2017 = LoL.loc[LoL['Year'] == 2017,]\n",
    "y2017 = y2017.loc[y2017['Type'] == 'Season']"
   ]
  },
  {
   "cell_type": "markdown",
   "metadata": {},
   "source": [
    "## 1. Blue vs Red Wins"
   ]
  },
  {
   "cell_type": "code",
   "execution_count": 417,
   "metadata": {},
   "outputs": [
    {
     "name": "stdout",
     "output_type": "stream",
     "text": [
      "      bResult  rResult\n",
      "Year                  \n",
      "2017     1456     1116\n"
     ]
    }
   ],
   "source": [
    "wins = y2017.groupby('Year')[['bResult', 'rResult']].sum()\n",
    "print(wins)"
   ]
  },
  {
   "cell_type": "markdown",
   "metadata": {},
   "source": [
    "The typical question of whether blue or red side wins more games! From this simple table, it looks like blue side won 340 games more than the red side.  "
   ]
  },
  {
   "cell_type": "markdown",
   "metadata": {},
   "source": [
    "## 2. Game Length"
   ]
  },
  {
   "cell_type": "code",
   "execution_count": 418,
   "metadata": {},
   "outputs": [
    {
     "data": {
      "text/plain": [
       "count    2572.000000\n",
       "mean       36.240669\n",
       "std         7.799661\n",
       "min        17.000000\n",
       "25%        31.000000\n",
       "50%        35.000000\n",
       "75%        41.000000\n",
       "max        78.000000\n",
       "Name: gamelength, dtype: float64"
      ]
     },
     "execution_count": 418,
     "metadata": {},
     "output_type": "execute_result"
    }
   ],
   "source": [
    "y2017['gamelength'].describe()"
   ]
  },
  {
   "cell_type": "code",
   "execution_count": 419,
   "metadata": {},
   "outputs": [
    {
     "data": {
      "text/plain": [
       "(10, 57)"
      ]
     },
     "execution_count": 419,
     "metadata": {},
     "output_type": "execute_result"
    }
   ],
   "source": [
    "y2017_2 = y2017[y2017.gamelength > 65]\n",
    "y2017_2.shape "
   ]
  },
  {
   "cell_type": "markdown",
   "metadata": {},
   "source": [
    "There are only 10 games over 65 minutes out of the 2572. This is about 3 standard deviations above the 75% quartile.\n",
    "\n",
    "We'll just clean it up a bit and take these out"
   ]
  },
  {
   "cell_type": "code",
   "execution_count": 420,
   "metadata": {},
   "outputs": [
    {
     "data": {
      "text/plain": [
       "count    2562.000000\n",
       "mean       36.112412\n",
       "std         7.535977\n",
       "min        17.000000\n",
       "25%        30.000000\n",
       "50%        35.000000\n",
       "75%        41.000000\n",
       "max        65.000000\n",
       "Name: gamelength, dtype: float64"
      ]
     },
     "execution_count": 420,
     "metadata": {},
     "output_type": "execute_result"
    }
   ],
   "source": [
    "y2017 = y2017[y2017.gamelength <= 65]\n",
    "y2017['gamelength'].describe()"
   ]
  },
  {
   "cell_type": "code",
   "execution_count": 421,
   "metadata": {
    "scrolled": false
   },
   "outputs": [
    {
     "data": {
      "image/png": "[encoded data removed]",
      "text/plain": [
       "<matplotlib.figure.Figure at 0xbc5c26b5c0>"
      ]
     },
     "metadata": {},
     "output_type": "display_data"
    }
   ],
   "source": [
    "fig, ax = plt.subplots(0,2, figsize=(16,11))\n",
    "\n",
    "p1 = plt.subplot2grid((2,4), (0,0), colspan = 1)\n",
    "sns.boxplot(y = y2017['gamelength'], color = 'lavender')\n",
    "plt.title(\"Boxplot for Distribution of Game Length\")\n",
    "plt.xlabel(\"Games\") \n",
    "plt.ylabel(\"Minutes\")\n",
    "\n",
    "p2 = plt.subplot2grid((2,4), (0,1), colspan = 3)\n",
    "plt.hist(x= 'gamelength', bins = 16, data = y2017, color = 'lightcyan', edgecolor = 'grey')\n",
    "plt.title(\"Histogram for Distribution of Game Length\")\n",
    "plt.xlabel(\"Minutes\")\n",
    "plt.ylabel(\"Count\")\n",
    "\n",
    "plt.show()"
   ]
  },
  {
   "cell_type": "markdown",
   "metadata": {},
   "source": [
    "From the boxplot and histogram, we can see that most competitive games during 2017 Season only lasted between 30-40 minutes long. The distribution is skewed left. Fromt the summary statistics, a game can go from 17 minutes to 78 minutes. However we decided to remove games over 65 minutes. "
   ]
  },
  {
   "cell_type": "markdown",
   "metadata": {},
   "source": [
    "## 3. Average Gold over Time"
   ]
  },
  {
   "cell_type": "code",
   "execution_count": 422,
   "metadata": {},
   "outputs": [],
   "source": [
    "#import the data for gold\n",
    "gold = pd.read_csv('C:/Users/Kaylin/Documents/Data Sets/League of Legends/gold.csv')"
   ]
  },
  {
   "cell_type": "code",
   "execution_count": null,
   "metadata": {},
   "outputs": [],
   "source": []
  },
  {
   "cell_type": "markdown",
   "metadata": {},
   "source": [
    "## 4. Most and Least Banned Champions in 2017"
   ]
  },
  {
   "cell_type": "code",
   "execution_count": 423,
   "metadata": {},
   "outputs": [],
   "source": [
    "blueBans2017 = y2017['blueBans'].apply(literal_eval)\n",
    "redBans2017 = y2017['redBans'].apply(literal_eval)\n",
    "\n",
    "bans = blueBans2017.append(redBans2017) #combine the red and blue bans for a total bans data frame"
   ]
  },
  {
   "cell_type": "code",
   "execution_count": 424,
   "metadata": {},
   "outputs": [],
   "source": [
    "dfBans = pd.DataFrame(bans) #create the data frame\n",
    "dfBans.columns = [\"bans\"] #rename the column "
   ]
  },
  {
   "cell_type": "code",
   "execution_count": 425,
   "metadata": {},
   "outputs": [
    {
     "data": {
      "text/html": [
       "<div>\n",
       "<style scoped>\n",
       "    .dataframe tbody tr th:only-of-type {\n",
       "        vertical-align: middle;\n",
       "    }\n",
       "\n",
       "    .dataframe tbody tr th {\n",
       "        vertical-align: top;\n",
       "    }\n",
       "\n",
       "    .dataframe thead th {\n",
       "        text-align: right;\n",
       "    }\n",
       "</style>\n",
       "<table border=\"1\" class=\"dataframe\">\n",
       "  <thead>\n",
       "    <tr style=\"text-align: right;\">\n",
       "      <th></th>\n",
       "      <th>bans</th>\n",
       "    </tr>\n",
       "  </thead>\n",
       "  <tbody>\n",
       "    <tr>\n",
       "      <th>609</th>\n",
       "      <td>[Rengar, Olaf, Janna, Nautilus, Poppy]</td>\n",
       "    </tr>\n",
       "    <tr>\n",
       "      <th>610</th>\n",
       "      <td>[Zyra, Maokai, Ryze, Fiora, Jayce]</td>\n",
       "    </tr>\n",
       "    <tr>\n",
       "      <th>611</th>\n",
       "      <td>[Zyra, Syndra, Ryze, Orianna, Karma]</td>\n",
       "    </tr>\n",
       "    <tr>\n",
       "      <th>612</th>\n",
       "      <td>[Ryze, Kennen, Malzahar, Zyra, Rumble]</td>\n",
       "    </tr>\n",
       "    <tr>\n",
       "      <th>613</th>\n",
       "      <td>[Kalista, Olaf, Zyra, MissFortune, Ekko]</td>\n",
       "    </tr>\n",
       "  </tbody>\n",
       "</table>\n",
       "</div>"
      ],
      "text/plain": [
       "                                         bans\n",
       "609    [Rengar, Olaf, Janna, Nautilus, Poppy]\n",
       "610        [Zyra, Maokai, Ryze, Fiora, Jayce]\n",
       "611      [Zyra, Syndra, Ryze, Orianna, Karma]\n",
       "612    [Ryze, Kennen, Malzahar, Zyra, Rumble]\n",
       "613  [Kalista, Olaf, Zyra, MissFortune, Ekko]"
      ]
     },
     "execution_count": 425,
     "metadata": {},
     "output_type": "execute_result"
    }
   ],
   "source": [
    "dfBans.shape #to check if both columns were combined correctly, the shape needs 6622 rows because the original set had 3311 obs\n",
    "dfBans.head()"
   ]
  },
  {
   "cell_type": "code",
   "execution_count": 426,
   "metadata": {},
   "outputs": [
    {
     "data": {
      "text/plain": [
       "(25437, 1)"
      ]
     },
     "execution_count": 426,
     "metadata": {},
     "output_type": "execute_result"
    }
   ],
   "source": [
    "lst_col = 'bans'\n",
    "\n",
    "#get the names out of the 'pseudo'-list\n",
    "b = pd.DataFrame({\n",
    "    col:np.repeat(dfBans[col].values, dfBans[lst_col].str.len())\n",
    "    for col in dfBans.columns.drop(lst_col)}).assign(**{lst_col:np.concatenate(dfBans[lst_col].values)})[dfBans.columns]\n",
    "\n",
    "b.shape #25437 total bans in 2017 for competitive matches"
   ]
  },
  {
   "cell_type": "code",
   "execution_count": 427,
   "metadata": {},
   "outputs": [],
   "source": [
    "#get the total each champion in 2017 was banned in competitive matches\n",
    "common1 = b.groupby('bans')['bans'].count()"
   ]
  },
  {
   "cell_type": "code",
   "execution_count": 428,
   "metadata": {},
   "outputs": [],
   "source": [
    "#sort from largest to smallest; observe the top 10\n",
    "mostcommon1sort =common1.sort_values(ascending = False)[0:10]\n",
    "\n",
    "#sort from smallest to largest; observe top 10\n",
    "leastcommon1sort = common1.sort_values(ascending= True)[0:10]"
   ]
  },
  {
   "cell_type": "code",
   "execution_count": 429,
   "metadata": {},
   "outputs": [],
   "source": [
    "#turn into a dataframe\n",
    "leastcommon1df= pd.DataFrame(leastcommon1sort)\n",
    "leastcommon1df = leastcommon1df.reindex(leastcommon1df.index.rename('Champion'))\n",
    "leastcommon1df.reset_index(level=0, inplace=True)"
   ]
  },
  {
   "cell_type": "code",
   "execution_count": 430,
   "metadata": {},
   "outputs": [],
   "source": [
    "#turn into a dataframe\n",
    "mostcommon1df= pd.DataFrame(mostcommon1sort)\n",
    "mostcommon1df = mostcommon1df.reindex(mostcommon1df.index.rename('Champion'))\n",
    "mostcommon1df.reset_index(level=0, inplace=True)"
   ]
  },
  {
   "cell_type": "code",
   "execution_count": 431,
   "metadata": {},
   "outputs": [
    {
     "name": "stdout",
     "output_type": "stream",
     "text": [
      "  Champion  bans\n",
      "0  Leblanc  1516\n",
      "1  Camille  1159\n",
      "2   Syndra  1082\n",
      "3      Zac  1078\n",
      "4    Elise   995\n",
      "5  Caitlyn   840\n",
      "6    Jayce   836\n",
      "7   Rengar   788\n",
      "8     Shen   785\n",
      "9   Thresh   683\n"
     ]
    }
   ],
   "source": [
    "print(mostcommon1df)"
   ]
  },
  {
   "cell_type": "code",
   "execution_count": 432,
   "metadata": {},
   "outputs": [
    {
     "name": "stdout",
     "output_type": "stream",
     "text": [
      "       Champion  bans\n",
      "0       DrMundo     1\n",
      "1        Xerath     1\n",
      "2         Amumu     1\n",
      "3           Lux     1\n",
      "4         Quinn     1\n",
      "5          Sona     1\n",
      "6         Shaco     1\n",
      "7         Diana     1\n",
      "8  Fiddlesticks     2\n",
      "9          Jinx     2\n"
     ]
    }
   ],
   "source": [
    "print(leastcommon1df)"
   ]
  },
  {
   "cell_type": "code",
   "execution_count": 433,
   "metadata": {
    "scrolled": true
   },
   "outputs": [
    {
     "data": {
      "text/plain": [
       "Text(0.5,1,'Least Banned Champions of 2017 Season')"
      ]
     },
     "execution_count": 433,
     "metadata": {},
     "output_type": "execute_result"
    },
    {
     "data": {
      "image/png": "[encoded data removed]",
      "text/plain": [
       "<matplotlib.figure.Figure at 0xbc6a7c7438>"
      ]
     },
     "metadata": {},
     "output_type": "display_data"
    }
   ],
   "source": [
    "fig, ax = plt.subplots(0,2, figsize=(16,11))\n",
    "\n",
    "p1 = plt.subplot(221)\n",
    "mostchart = plt.bar(mostcommon1df['Champion'], mostcommon1df['bans'], color = 'mistyrose', edgecolor = 'grey')\n",
    "plt.title('Most Banned Champions of 2017 Season')\n",
    "\n",
    "p2 = plt.subplot(222)\n",
    "leastchart = plt.bar(leastcommon1df['Champion'], leastcommon1df['bans'], color = 'lightcyan', edgecolor = 'grey')\n",
    "plt.title('Least Banned Champions of 2017 Season')"
   ]
  },
  {
   "cell_type": "markdown",
   "metadata": {},
   "source": [
    "From these table and barplot, we can see that the most common champion banned during the 2017 Season was LeBlanc and the least banned were Amumu, Diana, Mundo, Lux, Quinn, Shaco, Sona, and Xerath. \n",
    "\n",
    "LeBlanc was banned over 1516 times out of the 2562 competitive games. Meanwhile, there were 8 champions that were only banned once. Surprisingly, this indicates that every champion during 2017 was banned at least once! There were none that were left out of the big screen ban picks. "
   ]
  },
  {
   "cell_type": "markdown",
   "metadata": {},
   "source": [
    "# Modeling "
   ]
  },
  {
   "cell_type": "markdown",
   "metadata": {},
   "source": [
    "### What times should you take down the first structure in order to increase your chance of winning the game?\n",
    "\n",
    "Does taking down the first tower/objective earlier increase your chances of winning?\n",
    "\n",
    "We need to use the structures data set in the League of Legends Kaggle Data zip file and merge it with the general LoL set. \n",
    "\n",
    "First we will read in the structures and group by the Address. We will only be keeping the Time variable and find the minimum, which indicates when the first tower is taken down. \n",
    "\n",
    "Once we find when the first tower was taken down, we need to find out which team took it and if that team won. \n"
   ]
  },
  {
   "cell_type": "code",
   "execution_count": 434,
   "metadata": {},
   "outputs": [],
   "source": [
    "structures = pd.read_csv('C:/Users/Kaylin/Documents/Data Sets/League of Legends/structures.csv')"
   ]
  },
  {
   "cell_type": "code",
   "execution_count": 435,
   "metadata": {},
   "outputs": [],
   "source": [
    "timetable = structures.groupby('Address')['Time'].min() \n",
    "#Only get the first tower data"
   ]
  },
  {
   "cell_type": "code",
   "execution_count": 436,
   "metadata": {},
   "outputs": [
    {
     "data": {
      "text/plain": [
       "(7620,)"
      ]
     },
     "execution_count": 436,
     "metadata": {},
     "output_type": "execute_result"
    }
   ],
   "source": [
    "timetable.shape \n",
    "#Check if this matches the LoL data shape\n",
    "#Should only be one per game recorded"
   ]
  },
  {
   "cell_type": "code",
   "execution_count": 437,
   "metadata": {},
   "outputs": [
    {
     "data": {
      "text/html": [
       "<div>\n",
       "<style scoped>\n",
       "    .dataframe tbody tr th:only-of-type {\n",
       "        vertical-align: middle;\n",
       "    }\n",
       "\n",
       "    .dataframe tbody tr th {\n",
       "        vertical-align: top;\n",
       "    }\n",
       "\n",
       "    .dataframe thead th {\n",
       "        text-align: right;\n",
       "    }\n",
       "</style>\n",
       "<table border=\"1\" class=\"dataframe\">\n",
       "  <thead>\n",
       "    <tr style=\"text-align: right;\">\n",
       "      <th></th>\n",
       "      <th>Address</th>\n",
       "      <th>Time</th>\n",
       "    </tr>\n",
       "  </thead>\n",
       "  <tbody>\n",
       "    <tr>\n",
       "      <th>0</th>\n",
       "      <td>http://matchhistory.br.leagueoflegends.com/pt/...</td>\n",
       "      <td>9.397</td>\n",
       "    </tr>\n",
       "    <tr>\n",
       "      <th>1</th>\n",
       "      <td>http://matchhistory.br.leagueoflegends.com/pt/...</td>\n",
       "      <td>8.670</td>\n",
       "    </tr>\n",
       "    <tr>\n",
       "      <th>2</th>\n",
       "      <td>http://matchhistory.br.leagueoflegends.com/pt/...</td>\n",
       "      <td>9.075</td>\n",
       "    </tr>\n",
       "    <tr>\n",
       "      <th>3</th>\n",
       "      <td>http://matchhistory.br.leagueoflegends.com/pt/...</td>\n",
       "      <td>9.340</td>\n",
       "    </tr>\n",
       "    <tr>\n",
       "      <th>4</th>\n",
       "      <td>http://matchhistory.br.leagueoflegends.com/pt/...</td>\n",
       "      <td>13.053</td>\n",
       "    </tr>\n",
       "  </tbody>\n",
       "</table>\n",
       "</div>"
      ],
      "text/plain": [
       "                                             Address    Time\n",
       "0  http://matchhistory.br.leagueoflegends.com/pt/...   9.397\n",
       "1  http://matchhistory.br.leagueoflegends.com/pt/...   8.670\n",
       "2  http://matchhistory.br.leagueoflegends.com/pt/...   9.075\n",
       "3  http://matchhistory.br.leagueoflegends.com/pt/...   9.340\n",
       "4  http://matchhistory.br.leagueoflegends.com/pt/...  13.053"
      ]
     },
     "execution_count": 437,
     "metadata": {},
     "output_type": "execute_result"
    }
   ],
   "source": [
    "timetabledf = pd.DataFrame(timetable)\n",
    "timetabledf.reset_index(level=0, inplace=True)\n",
    "timetabledf.head()"
   ]
  },
  {
   "cell_type": "markdown",
   "metadata": {},
   "source": [
    "Merge the two data sets and only include the smallest time a tower was taken down. Then merge this data set into the original LoL data."
   ]
  },
  {
   "cell_type": "code",
   "execution_count": 438,
   "metadata": {},
   "outputs": [],
   "source": [
    "structures_merge = pd.merge(structures,timetabledf, on=['Address', 'Time'])"
   ]
  },
  {
   "cell_type": "code",
   "execution_count": 490,
   "metadata": {},
   "outputs": [
    {
     "data": {
      "text/plain": [
       "(7622, 61)"
      ]
     },
     "execution_count": 490,
     "metadata": {},
     "output_type": "execute_result"
    }
   ],
   "source": [
    "structuresLoL_merge = pd.merge(structures_merge, LoL, on = ['Address'])\n",
    "structuresLoL_merge.shape"
   ]
  },
  {
   "cell_type": "code",
   "execution_count": 491,
   "metadata": {},
   "outputs": [],
   "source": [
    "structuresLoL = structuresLoL_merge[['Time', 'Team', 'Lane', 'Year', 'Address', 'bResult', 'rResult']]"
   ]
  },
  {
   "cell_type": "code",
   "execution_count": 441,
   "metadata": {},
   "outputs": [],
   "source": [
    "#structuresLoL_merge2 = structuresLoL_merge.rename(columns = ({ 'bResult' : 'Result'}))\n",
    "#blueteamtowers2 = structuresLoL_merge2[['Time', 'Team', 'Lane', 'Year', 'Address', 'Result']]"
   ]
  },
  {
   "cell_type": "code",
   "execution_count": 442,
   "metadata": {},
   "outputs": [],
   "source": [
    "#structuresLoL_merge2 = structuresLoL_merge.rename(columns = ({ 'rResult' : 'Result'}))\n",
    "#redteamtowers2 = structuresLoL_merge2[['Time', 'Team', 'Lane', 'Year', 'Address', 'Result']]"
   ]
  },
  {
   "cell_type": "markdown",
   "metadata": {},
   "source": [
    "Filter where blue team won and where red team won into different data sets first. \n",
    "\n",
    "MIGHT NOT NEED THIS UP TO EXPLORATORY ANALYSIS"
   ]
  },
  {
   "cell_type": "code",
   "execution_count": 443,
   "metadata": {},
   "outputs": [],
   "source": [
    "#blueteamwins = structuresLoL_merge[structuresLoL_merge.bResult == 1]\n",
    "#blueteamtowers = blueteamwins[blueteamwins.Team == 'bTowers']\n",
    "#blueteamtowers = blueteamtowers.rename(columns = ({ 'bResult' : 'Result'}))\n",
    "#blueteamtowers = blueteamtowers[['Time', 'Team', 'Lane', 'Year', 'Address', 'Result']]"
   ]
  },
  {
   "cell_type": "code",
   "execution_count": 444,
   "metadata": {},
   "outputs": [],
   "source": [
    "#blueteamtowers.shape"
   ]
  },
  {
   "cell_type": "code",
   "execution_count": 445,
   "metadata": {},
   "outputs": [],
   "source": [
    "#redteamwins = structuresLoL_merge[structuresLoL_merge.rResult == 1]\n",
    "#redteamtowers = redteamwins[redteamwins.Team == 'rTowers']\n",
    "#redteamtowers = redteamtowers.rename(columns = ({ 'rResult' : 'Result'}))\n",
    "#redteamtowers = redteamtowers[['Time', 'Team', 'Lane', 'Year', 'Address', 'Result']]"
   ]
  },
  {
   "cell_type": "code",
   "execution_count": 446,
   "metadata": {},
   "outputs": [],
   "source": [
    "#redteamtowers.shape"
   ]
  },
  {
   "cell_type": "markdown",
   "metadata": {},
   "source": [
    "We want where the first tower was taken down by the winning team, so we combine the two datasets. "
   ]
  },
  {
   "cell_type": "code",
   "execution_count": 447,
   "metadata": {},
   "outputs": [],
   "source": [
    "#winfirsttower = blueteamtowers.append(redteamtowers)\n",
    "#winfirsttower.shape"
   ]
  },
  {
   "cell_type": "code",
   "execution_count": 448,
   "metadata": {},
   "outputs": [],
   "source": [
    "#winfirsttower = winfirsttower[['Time', 'Team', 'Lane', 'Year', 'Address', 'Result']]"
   ]
  },
  {
   "cell_type": "markdown",
   "metadata": {},
   "source": [
    "### Quick Exploratory Analysis of the New Data Set"
   ]
  },
  {
   "cell_type": "code",
   "execution_count": 449,
   "metadata": {
    "scrolled": true
   },
   "outputs": [],
   "source": [
    "#winfirsttower.min()"
   ]
  },
  {
   "cell_type": "code",
   "execution_count": 503,
   "metadata": {},
   "outputs": [
    {
     "name": "stdout",
     "output_type": "stream",
     "text": [
      "      bResult  rResult\n",
      "Year                  \n",
      "2014       46       32\n",
      "2015      818      679\n",
      "2016     1317     1177\n",
      "2017     1832     1480\n",
      "2018      133      108\n"
     ]
    }
   ],
   "source": [
    "print(structuresLoL.groupby(['Year'])['bResult', 'rResult'].sum())"
   ]
  },
  {
   "cell_type": "markdown",
   "metadata": {},
   "source": [
    "Like 2017, the other years of the competitive game have shown that blue side tends to win more than the red. It seems to be a trend!"
   ]
  },
  {
   "cell_type": "code",
   "execution_count": 494,
   "metadata": {},
   "outputs": [
    {
     "data": {
      "text/plain": [
       "3.105"
      ]
     },
     "execution_count": 494,
     "metadata": {},
     "output_type": "execute_result"
    }
   ],
   "source": [
    "structuresLoL.Time.min()"
   ]
  },
  {
   "cell_type": "markdown",
   "metadata": {},
   "source": [
    "The shortest time to take down a tower was about 3 minutes and it was the Bottom Lane's Outer Turret"
   ]
  },
  {
   "cell_type": "code",
   "execution_count": 499,
   "metadata": {},
   "outputs": [
    {
     "data": {
      "text/plain": [
       "bResult  rResult\n",
       "0        1          11.551341\n",
       "1        0          11.531234\n",
       "Name: Time, dtype: float64"
      ]
     },
     "execution_count": 499,
     "metadata": {},
     "output_type": "execute_result"
    }
   ],
   "source": [
    "structuresLoL.groupby(['bResult', 'rResult'])['Time'].mean()"
   ]
  },
  {
   "cell_type": "markdown",
   "metadata": {},
   "source": [
    "The average time for the winning blue team to take down a tower is about 11.53 minutes while the average time for the winning red team to take down a tower is 11.55 minutes. They're basically equal!"
   ]
  },
  {
   "cell_type": "code",
   "execution_count": 501,
   "metadata": {},
   "outputs": [
    {
     "name": "stdout",
     "output_type": "stream",
     "text": [
      "          Lane\n",
      "Lane          \n",
      "BOT_LANE  3703\n",
      "MID_LANE  1046\n",
      "TOP_LANE  2873\n"
     ]
    }
   ],
   "source": [
    "lanetowers1 = structuresLoL.groupby('Lane')['Lane'].count()\n",
    "lanetowers1df = pd.DataFrame(lanetowers1)\n",
    "\n",
    "print(lanetowers1df)"
   ]
  },
  {
   "cell_type": "code",
   "execution_count": 502,
   "metadata": {},
   "outputs": [
    {
     "data": {
      "image/png": "[encoded data removed]",
      "text/plain": [
       "<matplotlib.figure.Figure at 0xbc725f95f8>"
      ]
     },
     "metadata": {},
     "output_type": "display_data"
    }
   ],
   "source": [
    "fig, ax = plt.subplots(0,2, figsize=(16,11))\n",
    "\n",
    "p1 = plt.subplot2grid((2,4), (0,0), colspan = 1)\n",
    "barchart = plt.bar(lanetowers1df.index, lanetowers1df['Lane'], \n",
    "                   color = 'indianred', edgecolor = 'grey')\n",
    "plt.title('Lane that had the First Tower Taken')\n",
    "\n",
    "p2 = plt.subplot2grid((2,4), (0,1), colspan = 3)\n",
    "plt.hist(structuresLoL_2017.Time, color = 'peachpuff', \n",
    "         edgecolor = 'grey')\n",
    "plt.title('Histogram of when the First Tower was Taken')\n",
    "\n",
    "plt.show()"
   ]
  },
  {
   "cell_type": "markdown",
   "metadata": {},
   "source": [
    "For the barplot, we can observe the count of towers that were the first to be taken down in the data set. It seems that Bottom Lane towers are the most frequent in being the first to go all 2014-2018 games recorded. Meanwhile, the Mid Lane tower seems to be the least. \n",
    "\n",
    "The histogram depicts the amount of time taken for the first tower to be taken down. 10-15 minutes appears to be a common time the first structure falls, but for a few games it took over 20 minutes!"
   ]
  },
  {
   "cell_type": "markdown",
   "metadata": {},
   "source": [
    "### Building a Logistic Model"
   ]
  },
  {
   "cell_type": "markdown",
   "metadata": {},
   "source": [
    "We want to see if there's a time a team should take down a tower in order to increase their chances in winning. \n",
    "\n",
    "We will only be using the variables: Time and Result"
   ]
  },
  {
   "cell_type": "code",
   "execution_count": 455,
   "metadata": {},
   "outputs": [],
   "source": [
    "#import statsmodels.api as sm\n",
    "#logit_model = sm.Logit(structuresLoL_merge.bResult, \n",
    "#                       structuresLoL_merge.Time)\n",
    "#result = logit_model.fit()\n",
    "#print(result.summary())\n",
    "\n",
    "from sklearn.linear_model import LogisticRegression\n",
    "from sklearn.cross_validation import train_test_split\n",
    "from sklearn import metrics\n",
    "from sklearn.cross_validation import cross_val_score"
   ]
  },
  {
   "cell_type": "code",
   "execution_count": null,
   "metadata": {},
   "outputs": [],
   "source": []
  }
 ],
 "metadata": {
  "kernelspec": {
   "display_name": "Python 3",
   "language": "python",
   "name": "python3"
  },
  "language_info": {
   "codemirror_mode": {
    "name": "ipython",
    "version": 3
   },
   "file_extension": ".py",
   "mimetype": "text/x-python",
   "name": "python",
   "nbconvert_exporter": "python",
   "pygments_lexer": "ipython3",
   "version": "3.6.4"
  }
 },
 "nbformat": 4,
 "nbformat_minor": 2
}
